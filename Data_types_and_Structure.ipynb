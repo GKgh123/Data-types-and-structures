{
  "nbformat": 4,
  "nbformat_minor": 0,
  "metadata": {
    "colab": {
      "provenance": []
    },
    "kernelspec": {
      "name": "python3",
      "display_name": "Python 3"
    },
    "language_info": {
      "name": "python"
    }
  },
  "cells": [
    {
      "cell_type": "markdown",
      "source": [
        "# Data types and Structure\n",
        "\n"
      ],
      "metadata": {
        "id": "d0OlEinHtOtm"
      }
    },
    {
      "cell_type": "markdown",
      "source": [
        "1. What are data structures, and why are they important?\n",
        "  \n",
        "  -> A data structure is a way to store and organize data in a computer so that it can be used multiple times.\n",
        "\n",
        "2.  Explain the difference between mutable and immutable data types with examples?\n",
        "  \n",
        " -> In mutable data types where we can alter the data when need, but we can't do this alter in immutable data types.\n",
        "\n",
        " mutable are list, set, dictionary\n",
        " immutbles are Tuples\n"
      ],
      "metadata": {
        "id": "GD0f4bazsD-y"
      }
    },
    {
      "cell_type": "code",
      "source": [
        "#EXample for Mutables\n",
        "list = [1,2,3,4,5]\n",
        "list[4]=6\n",
        "print(list)"
      ],
      "metadata": {
        "colab": {
          "base_uri": "https://localhost:8080/"
        },
        "id": "JJ8HO6y0vTFN",
        "outputId": "f0ecb3f1-1e6f-4ba3-976e-3784f6de9173"
      },
      "execution_count": 1,
      "outputs": [
        {
          "output_type": "stream",
          "name": "stdout",
          "text": [
            "[1, 2, 3, 4, 6]\n"
          ]
        }
      ]
    },
    {
      "cell_type": "code",
      "source": [
        "#Example for Immutables\n",
        "Colours = ('Blue','Orange','Green')\n",
        "Colours[3] = 'Red'\n",
        "print(Colours)"
      ],
      "metadata": {
        "colab": {
          "base_uri": "https://localhost:8080/",
          "height": 193
        },
        "id": "qkpYRQ6ivoaL",
        "outputId": "4039f8a1-fd4a-42bb-f838-89771f1dfed6"
      },
      "execution_count": 2,
      "outputs": [
        {
          "output_type": "error",
          "ename": "TypeError",
          "evalue": "'tuple' object does not support item assignment",
          "traceback": [
            "\u001b[0;31m---------------------------------------------------------------------------\u001b[0m",
            "\u001b[0;31mTypeError\u001b[0m                                 Traceback (most recent call last)",
            "\u001b[0;32m<ipython-input-2-3de3cb32f2ed>\u001b[0m in \u001b[0;36m<cell line: 0>\u001b[0;34m()\u001b[0m\n\u001b[1;32m      1\u001b[0m \u001b[0;31m#Example for Immutables\u001b[0m\u001b[0;34m\u001b[0m\u001b[0;34m\u001b[0m\u001b[0m\n\u001b[1;32m      2\u001b[0m \u001b[0mColours\u001b[0m \u001b[0;34m=\u001b[0m \u001b[0;34m(\u001b[0m\u001b[0;34m'Blue'\u001b[0m\u001b[0;34m,\u001b[0m\u001b[0;34m'Orange'\u001b[0m\u001b[0;34m,\u001b[0m\u001b[0;34m'Green'\u001b[0m\u001b[0;34m)\u001b[0m\u001b[0;34m\u001b[0m\u001b[0;34m\u001b[0m\u001b[0m\n\u001b[0;32m----> 3\u001b[0;31m \u001b[0mColours\u001b[0m\u001b[0;34m[\u001b[0m\u001b[0;36m3\u001b[0m\u001b[0;34m]\u001b[0m \u001b[0;34m=\u001b[0m \u001b[0;34m'Red'\u001b[0m\u001b[0;34m\u001b[0m\u001b[0;34m\u001b[0m\u001b[0m\n\u001b[0m\u001b[1;32m      4\u001b[0m \u001b[0mprint\u001b[0m\u001b[0;34m(\u001b[0m\u001b[0mColours\u001b[0m\u001b[0;34m)\u001b[0m\u001b[0;34m\u001b[0m\u001b[0;34m\u001b[0m\u001b[0m\n",
            "\u001b[0;31mTypeError\u001b[0m: 'tuple' object does not support item assignment"
          ]
        }
      ]
    },
    {
      "cell_type": "markdown",
      "source": [
        "3. What are the main differences between lists and tuples in Python?\n",
        "\n",
        " -> list are mutable and tuples are Immutable\n",
        "\n",
        " List is described in [], Tuples in ()\n",
        ""
      ],
      "metadata": {
        "id": "9cjOMiMdwSJ2"
      }
    },
    {
      "cell_type": "markdown",
      "source": [
        "4. Describe how dictionaries store data\n",
        "  \n",
        "  -> Dictionary stores the data in the KEY:VALUE Format.\n",
        "  "
      ],
      "metadata": {
        "id": "QDF_gvIazxBJ"
      }
    },
    {
      "cell_type": "code",
      "source": [
        "#Dictonary Example\n",
        "Dict_1 = {'name':'GK','Country':'India'}\n",
        "print(Dict_1)"
      ],
      "metadata": {
        "colab": {
          "base_uri": "https://localhost:8080/"
        },
        "id": "yHMqAJ0k0G_i",
        "outputId": "be22b489-8de9-40aa-8c7a-e27a1d9f3580"
      },
      "execution_count": 4,
      "outputs": [
        {
          "output_type": "stream",
          "name": "stdout",
          "text": [
            "{'name': 'GK', 'Country': 'Indai'}\n"
          ]
        }
      ]
    },
    {
      "cell_type": "markdown",
      "source": [
        "5.  Why might you use a set instead of a list in Python?\n",
        "\n",
        "  ->Because set allows only unique values not duplicates and also it is used for checking membership and these things cannot be executed in list."
      ],
      "metadata": {
        "id": "uTMlJJzW01U8"
      }
    },
    {
      "cell_type": "markdown",
      "source": [
        "6. What is a string in Python, and how is it different from a list?\n",
        "\n",
        " -> String can be a single charter or group of characters, but the List is the collection of different types of data."
      ],
      "metadata": {
        "id": "fMmq8a2j2lh2"
      }
    },
    {
      "cell_type": "code",
      "source": [
        "# Example for string\n",
        "str = ['a','b','c','India']\n",
        "print(str)"
      ],
      "metadata": {
        "colab": {
          "base_uri": "https://localhost:8080/"
        },
        "id": "5WQYtqhl3f_2",
        "outputId": "e41c7efb-cd29-456c-dfe1-9484e48fa77b"
      },
      "execution_count": 7,
      "outputs": [
        {
          "output_type": "stream",
          "name": "stdout",
          "text": [
            "['a', 'b', 'c', 'India']\n"
          ]
        }
      ]
    },
    {
      "cell_type": "code",
      "source": [
        "# Example for List\n",
        "list = [1,\"gk\", 2.1, True, 3+4j]\n",
        "print(list)"
      ],
      "metadata": {
        "colab": {
          "base_uri": "https://localhost:8080/"
        },
        "id": "I5XCz0dJ4EoB",
        "outputId": "545f7770-298a-4e7f-d754-1bddf2e4c22a"
      },
      "execution_count": 8,
      "outputs": [
        {
          "output_type": "stream",
          "name": "stdout",
          "text": [
            "[1, 'gk', 2.1, True, (3+4j)]\n"
          ]
        }
      ]
    },
    {
      "cell_type": "markdown",
      "source": [
        "7.  How do tuples ensure data integrity in Python?\n",
        "\n",
        "  ->A tuple is an immutable data structure in Python, And its values cannot be changed after creation. This immutability helps ensure data integrity by preventing modifications."
      ],
      "metadata": {
        "id": "K8QkFval5RS7"
      }
    },
    {
      "cell_type": "markdown",
      "source": [
        "9.  Can lists contain different data types in Python?\n",
        "\n",
        "  ->Yes, List can contain different type of data in it."
      ],
      "metadata": {
        "id": "RXqlPJAf6Ji-"
      }
    },
    {
      "cell_type": "code",
      "source": [
        "List1 = [1, 2.1, True, 'A', 2+3j]\n",
        "print(List1)"
      ],
      "metadata": {
        "colab": {
          "base_uri": "https://localhost:8080/"
        },
        "id": "xD6ifl146Ysh",
        "outputId": "fed0f324-c67f-4459-e911-7a7731b04bf6"
      },
      "execution_count": 11,
      "outputs": [
        {
          "output_type": "stream",
          "name": "stdout",
          "text": [
            "[1, 2.1, True, 'A', (2+3j)]\n"
          ]
        }
      ]
    },
    {
      "cell_type": "markdown",
      "source": [
        "10. Explain why strings are immutable in Python?\n",
        "\n",
        "  -> The strings (str) are immutable, Because they cannot be changed after creation. If we modify a string, a new string is created instead of changing the original one."
      ],
      "metadata": {
        "id": "xrrpW_z465rh"
      }
    },
    {
      "cell_type": "markdown",
      "source": [
        "11. What advantages do dictionaries offer over lists for certain tasks?\n",
        "\n",
        "  -> Dictionaries and lists are both used to store collections of data, but dictionaries offer several advantages over lists for certain tasks.\n",
        "  - We can access the data faster in dictionary rather than in list.\n"
      ],
      "metadata": {
        "id": "Bjv5pb_r-1HT"
      }
    },
    {
      "cell_type": "markdown",
      "source": [
        "12.  Describe a scenario where using a tuple would be preferable over a list?\n",
        "\n",
        "  -> A tuple is preferable over a list when you need to store fixed, unchangeable data that should remain constant throughout the program.\n",
        "\n",
        "  -> Example - Cordinates are fixed that cannot be changed, so if want to describe the data and it should be not changed than we can use tuples."
      ],
      "metadata": {
        "id": "SQqVD6G1AJFL"
      }
    },
    {
      "cell_type": "markdown",
      "source": [
        "13. How do sets handle duplicate values in Python?\n",
        "\n",
        " -> It helps to eliminate the duplicate values"
      ],
      "metadata": {
        "id": "wzaCRAN8Bgwz"
      }
    },
    {
      "cell_type": "code",
      "source": [
        "# Example for eliminating duplicate values\n",
        "list = [1,1,1,2,2,3,3,3,3]\n",
        "r = set(list)\n",
        "print(r)"
      ],
      "metadata": {
        "colab": {
          "base_uri": "https://localhost:8080/"
        },
        "id": "_KqBIG3SCQ5h",
        "outputId": "00f1c55a-8b8e-4e58-ed8c-9f549d14570b"
      },
      "execution_count": 12,
      "outputs": [
        {
          "output_type": "stream",
          "name": "stdout",
          "text": [
            "{1, 2, 3}\n"
          ]
        }
      ]
    },
    {
      "cell_type": "markdown",
      "source": [
        "14.  How does the “in” keyword work differently for lists and dictionaries?\n",
        "\n",
        "  -> It goes checking with in the form of linear way (slower), But in Dictionary it directly checks with key value."
      ],
      "metadata": {
        "id": "K6Zy7RjjCuB7"
      }
    },
    {
      "cell_type": "code",
      "source": [
        "#Example for list checking\n",
        "num = [10,20,30,40,50]\n",
        "print(10 in num)"
      ],
      "metadata": {
        "colab": {
          "base_uri": "https://localhost:8080/"
        },
        "id": "3dyzzOU4EDIT",
        "outputId": "6e5c739b-1432-4300-974f-07776493c8d9"
      },
      "execution_count": 14,
      "outputs": [
        {
          "output_type": "stream",
          "name": "stdout",
          "text": [
            "True\n"
          ]
        }
      ]
    },
    {
      "cell_type": "code",
      "source": [
        "#Example for Dictionary Checking\n",
        "student_rank = {\"Alice\": \"1\", \"Bob\": \"2\", \"Charlie\": \"3\"}\n",
        "\n",
        "print(\"Alice\" in student_rank)"
      ],
      "metadata": {
        "colab": {
          "base_uri": "https://localhost:8080/"
        },
        "id": "ZUDDholuEbFj",
        "outputId": "d66d4a12-5e99-465e-e870-6555e7833fbb"
      },
      "execution_count": 15,
      "outputs": [
        {
          "output_type": "stream",
          "name": "stdout",
          "text": [
            "True\n"
          ]
        }
      ]
    },
    {
      "cell_type": "markdown",
      "source": [
        "15.  Can you modify the elements of a tuple? Explain why or why not\n",
        "\n",
        "  -> No, We cant modify the elements in tuple, Because we use the tuple type of data for Fixed/Unchangeable type of data or Immutable type of data."
      ],
      "metadata": {
        "id": "0iCqfXvjE15G"
      }
    },
    {
      "cell_type": "markdown",
      "source": [
        "16. What is a nested dictionary, and give an example of its use case?\n",
        "\n",
        " -> Nested dictionary means a dictionary inside a dictionary."
      ],
      "metadata": {
        "id": "dGujHPFgG-w1"
      }
    },
    {
      "cell_type": "code",
      "source": [
        "# Example for Nested dictionary\n",
        "dict = {'gk':{'age':25,'Country':'India','role':['Analyst']}}\n",
        "print(dict['gk']['age'])\n",
        "print(dict['gk']['role'])"
      ],
      "metadata": {
        "colab": {
          "base_uri": "https://localhost:8080/"
        },
        "id": "_yZjSwaAHR5d",
        "outputId": "53ee4b0a-2701-44e2-e7f0-d0863766447b"
      },
      "execution_count": 17,
      "outputs": [
        {
          "output_type": "stream",
          "name": "stdout",
          "text": [
            "25\n",
            "['Analyst']\n"
          ]
        }
      ]
    },
    {
      "cell_type": "markdown",
      "source": [
        "18.   In what situations are lists preferred over dictionaries?\n",
        "\n",
        " -> list are prefered when we Need Indexed Access, and when Duplicates Are Needed,and when sorting is required and data is small."
      ],
      "metadata": {
        "id": "s5vOTH-KJRMp"
      }
    },
    {
      "cell_type": "markdown",
      "source": [
        "20. Explain the difference between a list and a dictionary in terms of data retrieval.\n",
        "\n",
        " -> In list the data is retrived in the form of indexing, but in dictionary we should call the data by raising a key."
      ],
      "metadata": {
        "id": "pQPCvq_zKmbR"
      }
    },
    {
      "cell_type": "code",
      "source": [
        "# Data retreiving in list\n",
        "list = [1,2,3,4,5]\n",
        "print(list[1])"
      ],
      "metadata": {
        "colab": {
          "base_uri": "https://localhost:8080/"
        },
        "id": "zYInOnEnL_co",
        "outputId": "d735cf44-312e-4db9-f90f-8602170808dd"
      },
      "execution_count": 18,
      "outputs": [
        {
          "output_type": "stream",
          "name": "stdout",
          "text": [
            "2\n"
          ]
        }
      ]
    },
    {
      "cell_type": "code",
      "source": [
        "# data calling in dictionary\n",
        "dict = {'name':'gk','Country':'USA'}\n",
        "print(dict['Country'])"
      ],
      "metadata": {
        "colab": {
          "base_uri": "https://localhost:8080/"
        },
        "id": "KHlKXPziMJ5F",
        "outputId": "d353957e-1750-4c12-dd5f-9e1bfa0cf9c8"
      },
      "execution_count": 24,
      "outputs": [
        {
          "output_type": "stream",
          "name": "stdout",
          "text": [
            "USA\n"
          ]
        }
      ]
    },
    {
      "cell_type": "markdown",
      "source": [
        "# Practical Questions"
      ],
      "metadata": {
        "id": "l3mIWMQLOU98"
      }
    },
    {
      "cell_type": "code",
      "source": [
        "# 1. Write a code to create a string with your name and print it.\n",
        "str = 'Girish'\n",
        "print(str)"
      ],
      "metadata": {
        "colab": {
          "base_uri": "https://localhost:8080/"
        },
        "id": "FIcPJtKMOK6r",
        "outputId": "2cb95782-9829-4265-8778-95d5b317bc86"
      },
      "execution_count": 25,
      "outputs": [
        {
          "output_type": "stream",
          "name": "stdout",
          "text": [
            "Girish\n"
          ]
        }
      ]
    },
    {
      "cell_type": "code",
      "source": [
        "# 2. Write a code to find the length of the string \"Hello World\"?\n",
        "str2 = \"Hello World!!\"\n",
        "print(len(str2))"
      ],
      "metadata": {
        "colab": {
          "base_uri": "https://localhost:8080/"
        },
        "id": "NH4YbijIOk8c",
        "outputId": "1604b295-ff62-4477-dd8f-a34f0a940f59"
      },
      "execution_count": 29,
      "outputs": [
        {
          "output_type": "stream",
          "name": "stdout",
          "text": [
            "13\n"
          ]
        }
      ]
    },
    {
      "cell_type": "code",
      "source": [
        "# 3. Write a code to slice the first 3 characters from the string \"Python Programming\"?\n",
        "str3 = \"Python Programming\"\n",
        "print(str3[0:3])"
      ],
      "metadata": {
        "colab": {
          "base_uri": "https://localhost:8080/"
        },
        "id": "9cZJvdDOPXpJ",
        "outputId": "a8911779-2f4a-4268-ddef-a9cf7fe438e8"
      },
      "execution_count": 30,
      "outputs": [
        {
          "output_type": "stream",
          "name": "stdout",
          "text": [
            "Pyt\n"
          ]
        }
      ]
    },
    {
      "cell_type": "code",
      "source": [
        "# 4. Write a code to convert the string \"hello\" to uppercase?\n",
        "str4 = \"hello\"\n",
        "str4.upper()"
      ],
      "metadata": {
        "colab": {
          "base_uri": "https://localhost:8080/",
          "height": 36
        },
        "id": "gVlmLy-4P6Wz",
        "outputId": "4bf77b65-81e6-41bc-87b6-2a85e72849ce"
      },
      "execution_count": 33,
      "outputs": [
        {
          "output_type": "execute_result",
          "data": {
            "text/plain": [
              "'HELLO'"
            ],
            "application/vnd.google.colaboratory.intrinsic+json": {
              "type": "string"
            }
          },
          "metadata": {},
          "execution_count": 33
        }
      ]
    },
    {
      "cell_type": "code",
      "source": [
        "# 5. Write a code to replace the word \"apple\" with \"orange\" in the string \"I like apple\"?\n",
        "str5 = \"I like apple\"\n",
        "print(str5)\n",
        "str5.replace('apple','ornage')"
      ],
      "metadata": {
        "colab": {
          "base_uri": "https://localhost:8080/",
          "height": 53
        },
        "id": "T5AbotjcQnJF",
        "outputId": "cc977b7f-1fe3-4a61-e683-2e964b9b56c4"
      },
      "execution_count": 35,
      "outputs": [
        {
          "output_type": "stream",
          "name": "stdout",
          "text": [
            "I like apple\n"
          ]
        },
        {
          "output_type": "execute_result",
          "data": {
            "text/plain": [
              "'I like ornage'"
            ],
            "application/vnd.google.colaboratory.intrinsic+json": {
              "type": "string"
            }
          },
          "metadata": {},
          "execution_count": 35
        }
      ]
    },
    {
      "cell_type": "code",
      "source": [
        "# 6. Write a code to create a list with numbers 1 to 5 and print it?\n",
        "list = [1,2,3,4,5]\n",
        "print(list)"
      ],
      "metadata": {
        "colab": {
          "base_uri": "https://localhost:8080/"
        },
        "id": "XQdwQmveRUqa",
        "outputId": "b7d46828-aebe-40c8-f652-651a29ce042c"
      },
      "execution_count": 36,
      "outputs": [
        {
          "output_type": "stream",
          "name": "stdout",
          "text": [
            "[1, 2, 3, 4, 5]\n"
          ]
        }
      ]
    },
    {
      "cell_type": "code",
      "source": [
        "# 7. Write a code to append the number 10 to the list [1, 2, 3, 4]?\n",
        "list2 = [1,2,3,4]\n",
        "list2.append(10)\n",
        "print(list2)"
      ],
      "metadata": {
        "colab": {
          "base_uri": "https://localhost:8080/"
        },
        "id": "B2KmxDBzSNHG",
        "outputId": "e7af2e94-15d9-4621-e0e2-1a0826d38ade"
      },
      "execution_count": 38,
      "outputs": [
        {
          "output_type": "stream",
          "name": "stdout",
          "text": [
            "[1, 2, 3, 4, 10]\n"
          ]
        }
      ]
    },
    {
      "cell_type": "code",
      "source": [
        "# 8. Write a code to remove the number 3 from the list [1, 2, 3, 4, 5]?\n",
        "list3 = [1,2,3,4,5]\n",
        "list3.remove(3)\n",
        "print(list3)"
      ],
      "metadata": {
        "colab": {
          "base_uri": "https://localhost:8080/"
        },
        "id": "UUEaxpwuShek",
        "outputId": "08c6c392-ce30-4707-ba6a-c306e244a6be"
      },
      "execution_count": 39,
      "outputs": [
        {
          "output_type": "stream",
          "name": "stdout",
          "text": [
            "[1, 2, 4, 5]\n"
          ]
        }
      ]
    },
    {
      "cell_type": "code",
      "source": [
        "# 9. Write a code to access the second element in the list ['a', 'b', 'c', 'd']?\n",
        "list4 = ['a','b','c','d']\n",
        "print(list4[1])"
      ],
      "metadata": {
        "colab": {
          "base_uri": "https://localhost:8080/"
        },
        "id": "DatlkywoTC2N",
        "outputId": "411e0768-aebc-4d57-94ba-2b5d1b46d46a"
      },
      "execution_count": 40,
      "outputs": [
        {
          "output_type": "stream",
          "name": "stdout",
          "text": [
            "b\n"
          ]
        }
      ]
    },
    {
      "cell_type": "code",
      "source": [
        "# 10. Write a code to reverse the list [10, 20, 30, 40, 50]?\n",
        "list5 = [10,20,30,40,50]\n",
        "list5.reverse()\n",
        "print(list5)"
      ],
      "metadata": {
        "colab": {
          "base_uri": "https://localhost:8080/"
        },
        "id": "8AG1yIXzTq_M",
        "outputId": "9c072bb5-bb84-4f9c-e959-ef980645e083"
      },
      "execution_count": 41,
      "outputs": [
        {
          "output_type": "stream",
          "name": "stdout",
          "text": [
            "[50, 40, 30, 20, 10]\n"
          ]
        }
      ]
    },
    {
      "cell_type": "code",
      "source": [
        "# 11.  Write a code to create a tuple with the elements 100, 200, 300 and print it?\n",
        "T1 = (100,200,300)\n",
        "print(T1)"
      ],
      "metadata": {
        "colab": {
          "base_uri": "https://localhost:8080/"
        },
        "id": "GH2ghAsPUL_q",
        "outputId": "2a645cbc-94c4-4dec-8a24-01dd3e872b0a"
      },
      "execution_count": 42,
      "outputs": [
        {
          "output_type": "stream",
          "name": "stdout",
          "text": [
            "(100, 200, 300)\n"
          ]
        }
      ]
    },
    {
      "cell_type": "code",
      "source": [
        "# 12. Write a code to access the second-to-last element of the tuple ('red', 'green', 'blue', 'yellow')?\n",
        "T2 = ('red', 'green', 'blue', 'yellow')\n",
        "print(T2[-2])"
      ],
      "metadata": {
        "colab": {
          "base_uri": "https://localhost:8080/"
        },
        "id": "MVbFWIp3UnMe",
        "outputId": "7f09c129-1c74-4505-cbe5-fddc408c34e9"
      },
      "execution_count": 44,
      "outputs": [
        {
          "output_type": "stream",
          "name": "stdout",
          "text": [
            "blue\n"
          ]
        }
      ]
    },
    {
      "cell_type": "code",
      "source": [
        "\n",
        "# 13. Write a code to find the minimum number in the tuple (10, 20, 5, 15).\n",
        "num = (10,20,5,15)\n",
        "print(min(num))"
      ],
      "metadata": {
        "colab": {
          "base_uri": "https://localhost:8080/"
        },
        "id": "41tlOVBY2a5f",
        "outputId": "b88be65a-81e9-463e-c75a-9829d0597201"
      },
      "execution_count": 1,
      "outputs": [
        {
          "output_type": "stream",
          "name": "stdout",
          "text": [
            "5\n"
          ]
        }
      ]
    },
    {
      "cell_type": "code",
      "source": [
        "# 14.  Write a code to find the index of the element \"cat\" in the tuple ('dog', 'cat', 'rabbit').\n",
        "T4 = ('dog','cat','rabbit')\n",
        "print(T4.index('cat'))\n"
      ],
      "metadata": {
        "colab": {
          "base_uri": "https://localhost:8080/"
        },
        "id": "oQHiOggL3JFB",
        "outputId": "6f2b0d2c-ad5a-4737-b1fd-560eb183c688"
      },
      "execution_count": 2,
      "outputs": [
        {
          "output_type": "stream",
          "name": "stdout",
          "text": [
            "1\n"
          ]
        }
      ]
    },
    {
      "cell_type": "code",
      "source": [
        "# 15.  Write a code to create a tuple containing three different fruits and check if \"kiwi\" is in it?\n",
        "fruits = (\"apple\", \"banana\", \"orange\")\n",
        "if \"kiwi\" in fruits:\n",
        "    print(\"Kiwi is in the tuple!\")\n",
        "else:\n",
        "    print(\"Kiwi is not in the tuple.\")"
      ],
      "metadata": {
        "colab": {
          "base_uri": "https://localhost:8080/"
        },
        "id": "IVXfSndP4WUM",
        "outputId": "5bd698a5-3350-4029-a332-761ee876397b"
      },
      "execution_count": 3,
      "outputs": [
        {
          "output_type": "stream",
          "name": "stdout",
          "text": [
            "Kiwi is not in the tuple.\n"
          ]
        }
      ]
    },
    {
      "cell_type": "code",
      "source": [
        "# 16.  Write a code to create a set with the elements 'a', 'b', 'c' and print it.\n",
        "my_set = {'a','b','c'}\n",
        "print(my_set)"
      ],
      "metadata": {
        "colab": {
          "base_uri": "https://localhost:8080/"
        },
        "id": "z038EZJT4qw3",
        "outputId": "c6d0bff5-6917-4080-8582-b3ace7a7f978"
      },
      "execution_count": 11,
      "outputs": [
        {
          "output_type": "stream",
          "name": "stdout",
          "text": [
            "{'b', 'a', 'c'}\n"
          ]
        }
      ]
    },
    {
      "cell_type": "code",
      "source": [
        "# 17.  Write a code to clear all elements from the set {1, 2, 3, 4, 5}.\n",
        "set = {1,2,3,4,5}\n",
        "print(set.clear())"
      ],
      "metadata": {
        "colab": {
          "base_uri": "https://localhost:8080/"
        },
        "id": "GlflNin65qyO",
        "outputId": "aa631821-0c74-4d39-94f0-f905cf5e5a0a"
      },
      "execution_count": 12,
      "outputs": [
        {
          "output_type": "stream",
          "name": "stdout",
          "text": [
            "None\n"
          ]
        }
      ]
    },
    {
      "cell_type": "code",
      "source": [
        "# 18.  Write a code to remove the element 4 from the set {1, 2, 3, 4}.\n",
        "set1 = {1,2,3,4}\n",
        "set1.remove(4)\n",
        "print(set1)\n"
      ],
      "metadata": {
        "colab": {
          "base_uri": "https://localhost:8080/"
        },
        "id": "KXASwdbM6Ay9",
        "outputId": "f1e04e22-5eae-4339-db26-33d12f6942c6"
      },
      "execution_count": 14,
      "outputs": [
        {
          "output_type": "stream",
          "name": "stdout",
          "text": [
            "{1, 2, 3}\n"
          ]
        }
      ]
    },
    {
      "cell_type": "code",
      "source": [
        "# 19.  Write a code to find the union of two sets {1, 2, 3} and {3, 4, 5}.\n",
        "set2 = {1,2,3}\n",
        "set3 = {4,5,6}\n",
        "print(set2.union(set3))"
      ],
      "metadata": {
        "colab": {
          "base_uri": "https://localhost:8080/"
        },
        "id": "IibxMqKA6dKh",
        "outputId": "ddb8fb18-1ad1-4643-b9d3-da171559ee5e"
      },
      "execution_count": 15,
      "outputs": [
        {
          "output_type": "stream",
          "name": "stdout",
          "text": [
            "{1, 2, 3, 4, 5, 6}\n"
          ]
        }
      ]
    },
    {
      "cell_type": "code",
      "source": [
        "# 20.  Write a code to find the intersection of two sets {1, 2, 3} and {2, 3, 4}.\n",
        "set4 = {1,2,3}\n",
        "set5 = {2,3,4}\n",
        "print(set4.intersection(set5))"
      ],
      "metadata": {
        "colab": {
          "base_uri": "https://localhost:8080/"
        },
        "id": "5fBDIuUg69M7",
        "outputId": "e086bb35-49dc-4f9d-d832-247286c80c14"
      },
      "execution_count": 16,
      "outputs": [
        {
          "output_type": "stream",
          "name": "stdout",
          "text": [
            "{2, 3}\n"
          ]
        }
      ]
    },
    {
      "cell_type": "code",
      "source": [
        "# 21. Write a code to create a dictionary with the keys \"name\", \"age\", and \"city\", and print it.\n",
        "dict = {'name':'gk', 'age':25, 'city':'NY'}\n",
        "print(dict)"
      ],
      "metadata": {
        "colab": {
          "base_uri": "https://localhost:8080/"
        },
        "id": "CiQr_a6a7SNB",
        "outputId": "7c19ea62-88cf-4107-a0d3-820786049d22"
      },
      "execution_count": 18,
      "outputs": [
        {
          "output_type": "stream",
          "name": "stdout",
          "text": [
            "{'name': 'gk', 'age': 25, 'city': 'NY'}\n"
          ]
        }
      ]
    },
    {
      "cell_type": "code",
      "source": [
        "# 22. Write a code to add a new key-value pair \"country\": \"USA\" to the dictionary {'name': 'John', 'age': 25}\n",
        "dict1 = {'name':'John','age':25}\n",
        "dict1['country'] ='USA'\n",
        "print(dict1)"
      ],
      "metadata": {
        "colab": {
          "base_uri": "https://localhost:8080/"
        },
        "id": "G6nxFIxW7_Yf",
        "outputId": "3047c675-f242-44ad-b888-78bebf93f75a"
      },
      "execution_count": 20,
      "outputs": [
        {
          "output_type": "stream",
          "name": "stdout",
          "text": [
            "{'name': 'John', 'age': 25, 'country': 'USA'}\n"
          ]
        }
      ]
    },
    {
      "cell_type": "code",
      "source": [
        "# 23. Write a code to access the value associated with the key \"name\" in the dictionary {'name': 'Alice', 'age': 30}.\n",
        "dict2 = {'name':'Alice','age':30}\n",
        "dict2['name']"
      ],
      "metadata": {
        "colab": {
          "base_uri": "https://localhost:8080/",
          "height": 36
        },
        "id": "Z7CsgO7K8z3c",
        "outputId": "348fea9f-5136-4705-8993-a41901ed336e"
      },
      "execution_count": 23,
      "outputs": [
        {
          "output_type": "execute_result",
          "data": {
            "text/plain": [
              "'Alice'"
            ],
            "application/vnd.google.colaboratory.intrinsic+json": {
              "type": "string"
            }
          },
          "metadata": {},
          "execution_count": 23
        }
      ]
    },
    {
      "cell_type": "code",
      "source": [
        "# 24.  Write a code to remove the key \"age\" from the dictionary {'name': 'Bob', 'age': 22, 'city': 'New York'}\n",
        "dict3 = {'name': 'Bob', 'age': 22, 'city': 'New York'}\n",
        "dict3.pop('age')\n",
        "print(dict3)"
      ],
      "metadata": {
        "colab": {
          "base_uri": "https://localhost:8080/"
        },
        "id": "BWh5pcW_9nBI",
        "outputId": "d59dbd10-5c88-42a1-ecfc-95ea7da745c5"
      },
      "execution_count": 24,
      "outputs": [
        {
          "output_type": "stream",
          "name": "stdout",
          "text": [
            "{'name': 'Bob', 'city': 'New York'}\n"
          ]
        }
      ]
    },
    {
      "cell_type": "code",
      "source": [
        "# 25. Write a code to check if the key \"city\" exists in the dictionary {'name': 'Alice', 'city': 'Paris'}\n",
        "dict4 = {'name': 'Alice', 'city': 'Paris'}\n",
        "if 'city' in dict4:\n",
        "    print('city present in the dictionary')\n",
        "else:\n",
        "    print('city not present')"
      ],
      "metadata": {
        "colab": {
          "base_uri": "https://localhost:8080/"
        },
        "id": "jv76yU_l-IhP",
        "outputId": "50c7c10e-0b96-4c9b-a0bb-0461a76571da"
      },
      "execution_count": 27,
      "outputs": [
        {
          "output_type": "stream",
          "name": "stdout",
          "text": [
            "city present in the dictionary\n"
          ]
        }
      ]
    },
    {
      "cell_type": "code",
      "source": [
        "# 26.  Write a code to create a list, a tuple, and a dictionary, and print them all\n",
        "list4 = [1,2,3,4]\n",
        "T5 = (5,6)\n",
        "dict7 = {'Country':'India'}\n",
        "print(list4)\n",
        "print(T5)\n",
        "print(dict7)"
      ],
      "metadata": {
        "colab": {
          "base_uri": "https://localhost:8080/"
        },
        "id": "tkae8iqY_F_c",
        "outputId": "938b7734-877a-4d57-aa72-c2dde2c24394"
      },
      "execution_count": 28,
      "outputs": [
        {
          "output_type": "stream",
          "name": "stdout",
          "text": [
            "[1, 2, 3, 4]\n",
            "(5, 6)\n",
            "{'Country': 'India'}\n"
          ]
        }
      ]
    },
    {
      "cell_type": "code",
      "source": [
        "# 28.  Write a code to create a list with strings and print the element at the third index.\n",
        "colour = ['red','blue','green','yellow']\n",
        "print(colour[3])"
      ],
      "metadata": {
        "colab": {
          "base_uri": "https://localhost:8080/"
        },
        "id": "RMr0FJ30_4t8",
        "outputId": "585658e7-b200-4304-a611-1e345ae065e3"
      },
      "execution_count": 29,
      "outputs": [
        {
          "output_type": "stream",
          "name": "stdout",
          "text": [
            "yellow\n"
          ]
        }
      ]
    },
    {
      "cell_type": "code",
      "source": [
        "# 29.  Write a code to combine two dictionaries into one and print the result\n",
        "dict8 = {'name':'gk'}\n",
        "dict9 = {'city':'India'}\n",
        "print(dict8 | dict9)"
      ],
      "metadata": {
        "colab": {
          "base_uri": "https://localhost:8080/"
        },
        "id": "R1cSEnzyAwDh",
        "outputId": "ea61e40a-1baa-4fef-ea58-003f602d20ba"
      },
      "execution_count": 30,
      "outputs": [
        {
          "output_type": "stream",
          "name": "stdout",
          "text": [
            "{'name': 'gk', 'city': 'India'}\n"
          ]
        }
      ]
    }
  ]
}